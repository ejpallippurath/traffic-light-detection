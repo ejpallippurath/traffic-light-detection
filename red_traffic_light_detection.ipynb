{
 "cells": [
  {
   "cell_type": "code",
   "execution_count": 1,
   "metadata": {},
   "outputs": [],
   "source": [
    "import cv2\n",
    "import numpy as np"
   ]
  },
  {
   "cell_type": "code",
   "execution_count": 4,
   "metadata": {},
   "outputs": [],
   "source": [
    "def detect_red_traffic_lights(image_path):\n",
    "    img = cv2.imread(image_path)\n",
    "    new_img = cv2.cvtColor(img, cv2.COLOR_BGR2HSV)\n",
    "    cv2.imshow('HSV Image', new_img)\n",
    "    \n",
    "    lower_red = np.array([150, 50, 50])  # Lower threshold for red color (Hue range 150-180) in HSV\n",
    "    upper_red = np.array([180, 255, 255])  # Upper threshold for red color (Hue range 150-180) in HSV\n",
    "\n",
    "    mask = cv2.inRange(new_img, lower_red, upper_red)\n",
    "    cv2.imshow('Mask', mask)\n",
    "    \n",
    "    result = cv2.bitwise_and(img, img, mask=mask)\n",
    "\n",
    "    cv2.imshow('Red Traffic Light Detection', result)\n",
    "    cv2.waitKey(0)\n",
    "    cv2.destroyAllWindows()\n",
    "\n",
    "detect_red_traffic_lights('traffic_light.jpg')"
   ]
  },
  {
   "cell_type": "code",
   "execution_count": null,
   "metadata": {},
   "outputs": [],
   "source": []
  }
 ],
 "metadata": {
  "kernelspec": {
   "display_name": "Python 3",
   "language": "python",
   "name": "python3"
  },
  "language_info": {
   "codemirror_mode": {
    "name": "ipython",
    "version": 3
   },
   "file_extension": ".py",
   "mimetype": "text/x-python",
   "name": "python",
   "nbconvert_exporter": "python",
   "pygments_lexer": "ipython3",
   "version": "3.6.5"
  }
 },
 "nbformat": 4,
 "nbformat_minor": 2
}
